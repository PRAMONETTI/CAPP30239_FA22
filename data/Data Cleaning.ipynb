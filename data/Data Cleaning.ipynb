{
 "cells": [
  {
   "cell_type": "markdown",
   "id": "f890542a",
   "metadata": {},
   "source": [
    "# Data Cleaning Process\n",
    "\n",
    "### Pedro Antonio Ramonetti\n",
    "### UCID: 12324731\n",
    "\n",
    "For this project, I'm using data that was collected by the National Institute of Statistics and Geography  of Mexico, to understand the impact of COVID-19 on Mexican Education.\n",
    "\n",
    "The files that are going to be cleaned are the following (both can be found in the raw data folder):\n",
    "\n",
    "* TMODULO.csv: This file captures the surveys that were individually collected for each student in the sample. Most of these surveys were answered by a relative who was found to be in the house at the moment of the survey.\n",
    "* TVIVIENDA.csv: This file captures the surveys collected at household level. "
   ]
  },
  {
   "cell_type": "markdown",
   "id": "6410ca25",
   "metadata": {},
   "source": [
    "## Household Data Cleaning"
   ]
  },
  {
   "cell_type": "code",
   "execution_count": 1,
   "id": "6b29961d",
   "metadata": {},
   "outputs": [],
   "source": [
    "import pandas as pd\n",
    "import numpy as np\n",
    "\n",
    "# First, I read the data.\n",
    "\n",
    "df_household = pd.read_csv(\"raw_data/TVIVIENDA.csv\", low_memory = False)\n",
    "\n",
    "# Drop variables that are not gonna be used. These variables counts the members of the household (not useful for us).\n",
    "\n",
    "df_household.drop(df_household.iloc[:, 1:29], inplace=True, axis=1)"
   ]
  },
  {
   "cell_type": "code",
   "execution_count": 2,
   "id": "90605784",
   "metadata": {},
   "outputs": [],
   "source": [
    "# Rename column to identify them more easily. The question ask if the household has the following goods\n",
    "\n",
    "df_household.rename(columns = {'P2_1_1':\"P2_desktop\", 'P2_1_2':\"P2_laptop\", 'P2_1_3':\"P2_tv\", \n",
    "                     'P2_1_4':\"P2_tablet\", 'P2_1_5':\"P2_smartphone\", 'P2_1_6':\"P2_internet\"}, inplace = True)\n",
    "\n",
    "# I dont't have use for the following variables:\n",
    "df_household.drop(df_household.iloc[:, 7:16], inplace=True, axis=1)\n",
    "\n"
   ]
  },
  {
   "cell_type": "code",
   "execution_count": 3,
   "id": "eea5c9a8",
   "metadata": {},
   "outputs": [],
   "source": [
    "# I'm saving the following columns in a different df, since the number of missing values is different. These \n",
    "# questions have to do with the advantages and disavantages of remote classes. Not really sure if I'm using them\n",
    "\n",
    "df_household_2 = df_household.drop(columns=[\"P2_desktop\",\"P2_laptop\", \"P2_tv\", \"P2_tablet\", \"P2_smartphone\", \"P2_internet\"])\n",
    "\n",
    "# Now I drop them from the original df\n",
    "df_household.drop(df_household.iloc[:, 7:], inplace=True, axis=1)\n",
    "\n",
    "#Drop NA's\n",
    "df_household = df_household.dropna()"
   ]
  },
  {
   "cell_type": "code",
   "execution_count": 4,
   "id": "dc3123c1",
   "metadata": {},
   "outputs": [],
   "source": [
    "# Make variables into an appropiate dummy format\n",
    "\n",
    "for (_, colname) in enumerate(df_household):\n",
    "    if colname==\"ENT\":\n",
    "        continue\n",
    "    else:\n",
    "        df_household.loc[df_household[colname] == 2, colname] = 0"
   ]
  },
  {
   "cell_type": "code",
   "execution_count": 5,
   "id": "32f000a5",
   "metadata": {},
   "outputs": [],
   "source": [
    "# Specify the regions in our data\n",
    "\n",
    "northwest=[2,3,8,10,25,26]\n",
    "northeast=[5,19,28]\n",
    "west=[6,14,16,18]\n",
    "east=[13,21,29,30]\n",
    "northcenter=[1,11,22,24,32]\n",
    "southcenter=[9,15,17]\n",
    "southeast=[4,23,27,31]\n",
    "southwest=[7,12,20]\n",
    "\n",
    "df_household[\"Region\"] = \"Northwest\"\n",
    "df_household[\"Region\"] = np.where(df_household['ENT'].isin(northeast),'Northeast', df_household[\"Region\"])\n",
    "df_household[\"Region\"] = np.where(df_household['ENT'].isin(west),'West', df_household[\"Region\"])\n",
    "df_household[\"Region\"] = np.where(df_household['ENT'].isin(east),'East', df_household[\"Region\"])\n",
    "df_household[\"Region\"] = np.where(df_household['ENT'].isin(northcenter),'Northcenter', df_household[\"Region\"])\n",
    "df_household[\"Region\"] = np.where(df_household['ENT'].isin(southcenter),'Southcenter', df_household[\"Region\"])\n",
    "df_household[\"Region\"] = np.where(df_household['ENT'].isin(southeast),'Southeast', df_household[\"Region\"])\n",
    "df_household[\"Region\"] = np.where(df_household['ENT'].isin(southwest),'southwest', df_household[\"Region\"])\n",
    "\n",
    "df_household_2[\"Region\"] = \"Northwest\"\n",
    "df_household_2[\"Region\"] = np.where(df_household_2['ENT'].isin(northeast),'Northeast', df_household_2[\"Region\"])\n",
    "df_household_2[\"Region\"] = np.where(df_household_2['ENT'].isin(west),'West', df_household_2[\"Region\"])\n",
    "df_household_2[\"Region\"] = np.where(df_household_2['ENT'].isin(east),'East', df_household_2[\"Region\"])\n",
    "df_household_2[\"Region\"] = np.where(df_household_2['ENT'].isin(northcenter),'Northcenter', df_household_2[\"Region\"])\n",
    "df_household_2[\"Region\"] = np.where(df_household_2['ENT'].isin(southcenter),'Southcenter', df_household_2[\"Region\"])\n",
    "df_household_2[\"Region\"] = np.where(df_household_2['ENT'].isin(southeast),'Southeast', df_household_2[\"Region\"])\n",
    "df_household_2[\"Region\"] = np.where(df_household_2['ENT'].isin(southwest),'southwest', df_household_2[\"Region\"])\n",
    "\n"
   ]
  },
  {
   "cell_type": "code",
   "execution_count": 6,
   "id": "ac0e1c6e",
   "metadata": {},
   "outputs": [],
   "source": [
    "# Before saving our df's, a count variable is always useful.\n",
    "\n",
    "df_household[\"count\"] = 1\n",
    "df_household_2[\"count\"] = 1\n",
    "\n",
    "# We save our df's. As I mentioned, not really sure if using the second one\n",
    "\n",
    "df_household.to_csv(\"household_clean.csv\", index = False)\n",
    "df_household_2.to_csv(\"household_2_clean.csv\", index = False)\n"
   ]
  },
  {
   "cell_type": "markdown",
   "id": "79a8fbf6",
   "metadata": {},
   "source": [
    "## Individuals Data Cleaning\n"
   ]
  },
  {
   "cell_type": "code",
   "execution_count": 7,
   "id": "d0e23aa6",
   "metadata": {},
   "outputs": [],
   "source": [
    "# First, I read the data.\n",
    "\n",
    "df = pd.read_csv(\"raw_data/TMODULO.csv\", low_memory = False)"
   ]
  },
  {
   "cell_type": "code",
   "execution_count": 8,
   "id": "447a33ad",
   "metadata": {},
   "outputs": [],
   "source": [
    "# All of the following columns are dummy variables, that are not correctly codified.\n",
    "\n",
    "dummies = [\"P3_5\",\"P3_6\",\"P3_7\",\"P3_8\",\"P3_9_1\",\"P3_9_2\",\"P3_9_3\",\"P3_9_4\",\n",
    "\"P3_9_5\",\"P3_9_6\",\"P3_9_7\",\"P3_9_8\",\"P3_9_9\",\"P3_11\",\"P3_12_1\",\n",
    "\"P3_12_2\",\"P3_12_3\",\"P3_12_4\",\"P3_12_5\",\"P3_12_6\",\"P3_12_7\",\n",
    "\"P3_12_8\",\"P3_14\",\"P3_16\",\"P3_17_1\",\"P3_17_2\",\"P3_17_3\",\"P3_17_4\",\n",
    "\"P3_17_5\",\"P3_17_6\",\"P3_17_7\",\"P3_17_8\",\"P3_20\",\"P3_21_1\",\"P3_21_2\",\n",
    "\"P3_21_3\",\"P3_21_4\",\"P3_21_5\",\"P3_21_6\",\"P3_21_7\",\"P3_23\"]\n",
    "\n",
    "for dummy in dummies:\n",
    "    df.loc[df[dummy] == 2, dummy] = 0"
   ]
  },
  {
   "cell_type": "code",
   "execution_count": 9,
   "id": "b891a185",
   "metadata": {},
   "outputs": [],
   "source": [
    "# Specify the regions\n",
    "\n",
    "df[\"Region\"] = \"Northwest\"\n",
    "df[\"Region\"] = np.where(df['ENT'].isin(northeast),'Northeast', df[\"Region\"])\n",
    "df[\"Region\"] = np.where(df['ENT'].isin(west),'West', df[\"Region\"])\n",
    "df[\"Region\"] = np.where(df['ENT'].isin(east),'East', df[\"Region\"])\n",
    "df[\"Region\"] = np.where(df['ENT'].isin(northcenter),'Northcenter', df[\"Region\"])\n",
    "df[\"Region\"] = np.where(df['ENT'].isin(southcenter),'Southcenter', df[\"Region\"])\n",
    "df[\"Region\"] = np.where(df['ENT'].isin(southeast),'Southeast', df[\"Region\"])\n",
    "df[\"Region\"] = np.where(df['ENT'].isin(southwest),'southwest', df[\"Region\"])"
   ]
  },
  {
   "cell_type": "code",
   "execution_count": 10,
   "id": "dc2a1803",
   "metadata": {},
   "outputs": [],
   "source": [
    "# I know I'm not using the following variables. Too many missing values\n",
    "\n",
    "to_drop = [\"CON\",\"N_REN\", \"PAREN\",\"P3_9_1\",\"P3_9_2\",\"P3_9_3\",\"P3_9_4\",\"P3_9_5\",\"P3_9_6\",\"P3_9_7\",\"P3_9_8\",\"P3_9_9\",\n",
    "           \"P3_19_1\",\"P3_19_2\",\"P3_19_3\",\"P3_19_4\",\"P3_19_5\",\"P3_19_6\",\"P3_19_7\",\"P3_19_8\"]\n",
    "\n",
    "for col in to_drop:\n",
    "    df = df.drop([col], axis=1)"
   ]
  },
  {
   "cell_type": "code",
   "execution_count": 11,
   "id": "59fc800b",
   "metadata": {},
   "outputs": [],
   "source": [
    "# We correct the gender and \"Public / Private School\" variables\n",
    "df[\"gender_string\"] = \"female\"\n",
    "df[\"gender_string\"] = np.where((df[\"SEXO\"] == 1),'male', df[\"gender_string\"])\n",
    "\n",
    "df[\"P3_6_string\"] = \"public\"\n",
    "df[\"P3_15_string\"] = \"public\"\n",
    "\n",
    "df[\"P3_6_string\"] = np.where((df[\"P3_6\"] == 2),'private', df[\"P3_6_string\"])\n",
    "df[\"P3_15_string\"] = np.where((df[\"P3_15\"] == 2),'private', df[\"P3_15_string\"])"
   ]
  },
  {
   "cell_type": "code",
   "execution_count": 12,
   "id": "22ad6d2f",
   "metadata": {},
   "outputs": [],
   "source": [
    "# Count variable\n",
    "df[\"count\"] = 1\n",
    "\n",
    "# Save the clean file. I'm uncertain on which exact variables I'm going to use, so I want to preserve the file as it is for now.\n",
    "df.to_csv(\"students_clean.csv\", index = False)"
   ]
  }
 ],
 "metadata": {
  "kernelspec": {
   "display_name": "Python 3 (ipykernel)",
   "language": "python",
   "name": "python3"
  },
  "language_info": {
   "codemirror_mode": {
    "name": "ipython",
    "version": 3
   },
   "file_extension": ".py",
   "mimetype": "text/x-python",
   "name": "python",
   "nbconvert_exporter": "python",
   "pygments_lexer": "ipython3",
   "version": "3.9.4"
  }
 },
 "nbformat": 4,
 "nbformat_minor": 5
}
